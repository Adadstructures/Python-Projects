{
 "cells": [
  {
   "cell_type": "code",
   "execution_count": null,
   "id": "df5b727e",
   "metadata": {},
   "outputs": [],
   "source": [
    "# This solution will calculate the R-Values of External Building Envelopes\n",
    "# The units are in inches "
   ]
  },
  {
   "cell_type": "code",
   "execution_count": 19,
   "id": "0d0e31e5",
   "metadata": {},
   "outputs": [
    {
     "name": "stdout",
     "output_type": "stream",
     "text": [
      "Enter Stud Spacing in inches: 16\n",
      "Enter Stud Cavity Thickness in inches: 5.5\n",
      "Enter Stud Width in inches: 1.5\n",
      "Enter the Framing Factor in percentage, if Available: 0\n"
     ]
    }
   ],
   "source": [
    "# CALCULATING THE OVERALL R-VALUE FOR WALLS WITH DIFFERENT HEAT TRANSFER PATHS\n",
    "\n",
    "# Input Stud Spacing\n",
    "int_stud_spacing  = 0\n",
    "while True:\n",
    "    try:\n",
    "        stud_spacing = float(input ('Enter Stud Spacing in inches: '))\n",
    "    except ValueError:\n",
    "        print ('Please Enter a Number!')\n",
    "    else:\n",
    "        break\n",
    "        int_stud_spacing = stud_spacing\n",
    "        \n",
    "# Input Stud Cavity Thickness\n",
    "int_cavity_thickness  = 0\n",
    "while True:\n",
    "    try:\n",
    "        stud_cavity_thickness = float(input ('Enter Stud Cavity Thickness in inches: '))\n",
    "    except ValueError:\n",
    "        print ('Please Enter a Number!')\n",
    "    else:\n",
    "        break\n",
    "        int_stud_cavity_thickness = stud_cavity_thickness\n",
    "        \n",
    "# Input Stud Width\n",
    "        int_stud_width  = 0\n",
    "while True:\n",
    "    try:\n",
    "        stud_width = float(input ('Enter Stud Width in inches: '))\n",
    "    except ValueError:\n",
    "        print ('Please Enter a Number!')\n",
    "    else:\n",
    "        break\n",
    "        int_stud_width = stud_width\n",
    "        \n",
    "# Input Framing Factor\n",
    "        \n",
    "int_framing_factor  = 0\n",
    "while True:\n",
    "    try:\n",
    "        framing_factor = float(input ('Enter the Framing Factor in percentage, if Available: '))\n",
    "    except ValueError:\n",
    "        print ('Please Enter a Number!')\n",
    "    else:\n",
    "        break\n",
    "        int_framing_factor = framing_factor"
   ]
  },
  {
   "cell_type": "code",
   "execution_count": 5,
   "id": "b9546cb4",
   "metadata": {},
   "outputs": [],
   "source": [
    "# WALL LAYERS: INTERIOR TO EXTERIOR\n"
   ]
  },
  {
   "cell_type": "code",
   "execution_count": 2,
   "id": "f9425176",
   "metadata": {},
   "outputs": [
    {
     "name": "stdout",
     "output_type": "stream",
     "text": [
      "Enter Interior Coefficient: 0.68\n"
     ]
    }
   ],
   "source": [
    "# Interior Air Film Coefficient\n",
    "# Input Interior Air Film Coeffiecient\n",
    "int_interior_coefficient  = 0\n",
    "while True:\n",
    "    try:\n",
    "        interior_coefficient = float(input ('Enter Interior Coefficient: '))\n",
    "    except ValueError:\n",
    "        print ('Please Enter a Number!')\n",
    "    else:\n",
    "        break\n",
    "        int_interior_coefficient = interior_coefficient"
   ]
  },
  {
   "cell_type": "code",
   "execution_count": 11,
   "id": "b74c301c",
   "metadata": {},
   "outputs": [
    {
     "name": "stdout",
     "output_type": "stream",
     "text": [
      "Enter Dry Wall Thickness in inches: 0.5\n",
      "Enter Dry Wall R-Value: 1.1\n",
      "0.55\n"
     ]
    }
   ],
   "source": [
    "# DRY WALL THICKNESS AND R-VALUE\n",
    "\n",
    "# Input Dry Wall Thickness\n",
    "int_dry_wall_thickness  = 0\n",
    "while True:\n",
    "    try:\n",
    "        dry_wall_thickness = float(input ('Enter Dry Wall Thickness in inches: '))\n",
    "    except ValueError:\n",
    "        print ('Please Enter a Number!')\n",
    "    else:\n",
    "        break\n",
    "        int_dry_wall_thickness = dry_wall_thickness\n",
    "        \n",
    "# Input Dry Wall R-Value\n",
    "int_dry_wall_r_value = 0\n",
    "while True:\n",
    "    try:\n",
    "        dry_wall_r_value = float(input ('Enter Dry Wall R-Value: '))\n",
    "    except ValueError:\n",
    "        print ('Please Enter a Number!')\n",
    "    else:\n",
    "        break\n",
    "        int_dry_wall_r_value = dry_wall_r_value\n",
    "        \n",
    "# Calculation of Wall R-Value for Path 1 and 2\n",
    "\n",
    "r_1_2_value_wall = round(dry_wall_thickness * dry_wall_r_value, 2)\n",
    "\n",
    "print (r_1_2_value_wall)"
   ]
  },
  {
   "cell_type": "code",
   "execution_count": 7,
   "id": "2859a7aa",
   "metadata": {},
   "outputs": [
    {
     "name": "stdout",
     "output_type": "stream",
     "text": [
      "Enter Wooden Stud R-Value: 0.94\n",
      "5.17\n"
     ]
    }
   ],
   "source": [
    "# WOODEN STUD PATH\n",
    "\n",
    "# Input Wooden Stud R-Value\n",
    "int_wooden_stud_r_value  = 0\n",
    "while True:\n",
    "    try:\n",
    "        wooden_stud_r_value = float(input ('Enter Wooden Stud R-Value: '))\n",
    "    except ValueError:\n",
    "        print ('Please Enter a Number!')\n",
    "    else:\n",
    "        break\n",
    "        int_wooden_stud_r_value = wooden_stud_r_value\n",
    "# Recall Stud Cavity Thickness        \n",
    "wooden_stud_thickness = stud_cavity_thickness\n",
    "\n",
    "# R-Value for the Wood for Path 1\n",
    "r_1_value_wooden = round(wooden_stud_r_value * wooden_stud_thickness, 2)\n",
    "\n",
    "print(r_1_value_wooden)"
   ]
  },
  {
   "cell_type": "code",
   "execution_count": 8,
   "id": "3c03e809",
   "metadata": {},
   "outputs": [
    {
     "name": "stdout",
     "output_type": "stream",
     "text": [
      "Enter Fibre Glass R-Value: 3.14\n",
      "17.27\n"
     ]
    }
   ],
   "source": [
    "# FIBRE GLASS INSULATION PATH\n",
    "\n",
    "# Input the R-Value for Fibre Glass\n",
    "int_fibre_glass_r_value  = 0\n",
    "while True:\n",
    "    try:\n",
    "        fibre_glass_r_value = float(input ('Enter Fibre Glass R-Value: '))\n",
    "    except ValueError:\n",
    "        print ('Please Enter a Number!')\n",
    "    else:\n",
    "        break\n",
    "        int_fibre_glass_r_value = fibre_glass_r_value\n",
    "        \n",
    "# Recall the Stud Cavity Thickness for Fibre Glass\n",
    "fibre_glass_thickness = stud_cavity_thickness\n",
    "\n",
    "# Calculate the Fibre Glass R-Value for the Path 2\n",
    "r_2_value_fibre_glass = round (fibre_glass_r_value * fibre_glass_thickness, 2)\n",
    "\n",
    "print(r_2_value_fibre_glass)"
   ]
  },
  {
   "cell_type": "code",
   "execution_count": 9,
   "id": "d5bba581",
   "metadata": {},
   "outputs": [
    {
     "name": "stdout",
     "output_type": "stream",
     "text": [
      "Enter Foam Insulation Thickness: 1\n",
      "Enter Foam Insulation R-Value: 5\n",
      "Enter Plywood Thickness: 0.5\n",
      "Enter Plywood R-Value: 1.56\n",
      "5.0\n",
      "0.78\n"
     ]
    }
   ],
   "source": [
    "# END PATH\n",
    "# Input the Foam Insulation Thickness\n",
    "int_foam_insulation_thickness  = 0\n",
    "while True:\n",
    "    try:\n",
    "        foam_insulation_thickness = float(input ('Enter Foam Insulation Thickness: '))\n",
    "    except ValueError:\n",
    "        print ('Please Enter a Number!')\n",
    "    else:\n",
    "        break\n",
    "        int_foam_insulation_thickness = foam_insulation_thickness\n",
    "\n",
    "# Input Foam Insulation R-Value\n",
    "int_foam_insulation_r_value  = 0\n",
    "while True:\n",
    "    try:\n",
    "        foam_insulation_r_value = float(input ('Enter Foam Insulation R-Value: '))\n",
    "    except ValueError:\n",
    "        print ('Please Enter a Number!')\n",
    "    else:\n",
    "        break\n",
    "        int_foam_insulation_r_values = foam_insulation_r_value\n",
    "        \n",
    "# Input Plywood Thickness\n",
    "int_plywood_thickness  = 0\n",
    "while True:\n",
    "    try:\n",
    "        plywood_thickness = float(input ('Enter Plywood Thickness: '))\n",
    "    except ValueError:\n",
    "        print ('Please Enter a Number!')\n",
    "    else:\n",
    "        break\n",
    "        int_plywood_thickness = plywood_thickness\n",
    "        \n",
    "# Input Plywood R-Value\n",
    "int_plywood_r_value  = 0\n",
    "while True:\n",
    "    try:\n",
    "        plywood_r_value = float(input ('Enter Plywood R-Value: '))\n",
    "    except ValueError:\n",
    "        print ('Please Enter a Number!')\n",
    "    else:\n",
    "        break\n",
    "        int_plywood_r_value = plywood_r_value\n",
    "\n",
    "r_1_2_value_foam_insulation = round (foam_insulation_thickness * foam_insulation_r_value, 2)\n",
    "\n",
    "r_1_2_value_plywood = round (plywood_thickness * plywood_r_value, 2)\n",
    "print(r_1_2_value_foam_insulation)\n",
    "print (r_1_2_value_plywood)"
   ]
  },
  {
   "cell_type": "code",
   "execution_count": 13,
   "id": "f3272dfb",
   "metadata": {},
   "outputs": [
    {
     "name": "stdout",
     "output_type": "stream",
     "text": [
      "Enter Exterior Coefficient: 0.17\n"
     ]
    }
   ],
   "source": [
    "# EXTERIOR COEFFICIENT\n",
    "# Input Exterior Coefficient\n",
    "int_exterior_coefficient  = 0\n",
    "while True:\n",
    "    try:\n",
    "        exterior_coefficient = float(input ('Enter Exterior Coefficient: '))\n",
    "    except ValueError:\n",
    "        print ('Please Enter a Number!')\n",
    "    else:\n",
    "        break\n",
    "        int_exterior_coefficient = exterior_coefficient"
   ]
  },
  {
   "cell_type": "code",
   "execution_count": 20,
   "id": "66d8c363",
   "metadata": {},
   "outputs": [
    {
     "name": "stdout",
     "output_type": "stream",
     "text": [
      "The Total R-Value for Path 1 is: 12.35\n",
      "The Total R-Value for Path 2 is: 24.45\n"
     ]
    }
   ],
   "source": [
    "# WALL R-VALUE FOR PATH 1 & 2\n",
    "# Calculating R-Value for Path 1\n",
    "path_1_r_value_total = round(interior_coefficient + r_1_2_value_wall + r_1_value_wooden + r_1_2_value_foam_insulation + r_1_2_value_plywood + exterior_coefficient, 2)\n",
    "\n",
    "# Calculating R-Value for Path 2\n",
    "path_2_r_value_total = round(interior_coefficient + r_1_2_value_wall + r_2_value_fibre_glass + r_1_2_value_foam_insulation + r_1_2_value_plywood + exterior_coefficient, 2)\n",
    "\n",
    "print ('The Total R-Value for Path 1 is: ' + str(path_1_r_value_total))\n",
    "\n",
    "print ('The Total R-Value for Path 2 is: ' + str(path_2_r_value_total))"
   ]
  },
  {
   "cell_type": "code",
   "execution_count": 16,
   "id": "04e940c8",
   "metadata": {},
   "outputs": [
    {
     "name": "stdout",
     "output_type": "stream",
     "text": [
      "9.38 Percent\n"
     ]
    }
   ],
   "source": [
    "# CALCULATING THE FRAMING FACTOR\n",
    "\n",
    "calc_framing_factor = round(stud_width*100/stud_spacing, 2)\n",
    "\n",
    "print (str (calc_framing_factor) + ' Percent' )"
   ]
  },
  {
   "cell_type": "code",
   "execution_count": 21,
   "id": "66b05128",
   "metadata": {},
   "outputs": [
    {
     "name": "stdout",
     "output_type": "stream",
     "text": [
      "0.0447\n"
     ]
    }
   ],
   "source": [
    "# CALCULATING U-FACTOR\n",
    "\n",
    "if (float(framing_factor) > 0):\n",
    "    u_factor = ((1/path_1_r_value_total)*(float(framing_factor)/100))+((1/path_2_r_value_total)*((stud_spacing - stud_width)/stud_spacing))\n",
    "    print (round(u_factor, 4))\n",
    "else:\n",
    "    u_factor = ((1/path_1_r_value_total)*(calc_framing_factor/100))+((1/path_2_r_value_total)*((stud_spacing - stud_width)/stud_spacing))\n",
    "    print (round(u_factor, 4))"
   ]
  },
  {
   "cell_type": "code",
   "execution_count": 23,
   "id": "160a735c",
   "metadata": {},
   "outputs": [
    {
     "name": "stdout",
     "output_type": "stream",
     "text": [
      "The Overall Wall R-Value is: 22.39\n"
     ]
    }
   ],
   "source": [
    "# OVERALL WALL R-VALUE\n",
    "# Calculating Overall Wall R-Value\n",
    "overall_wall_r_value = (1/u_factor)\n",
    "print('The Overall Wall R-Value is: ' + str(round(overall_wall_r_value, 2)))"
   ]
  },
  {
   "cell_type": "code",
   "execution_count": null,
   "id": "f2683be0",
   "metadata": {},
   "outputs": [],
   "source": []
  },
  {
   "cell_type": "code",
   "execution_count": null,
   "id": "5e137d3e",
   "metadata": {},
   "outputs": [],
   "source": []
  },
  {
   "cell_type": "code",
   "execution_count": null,
   "id": "794ce509",
   "metadata": {},
   "outputs": [],
   "source": []
  }
 ],
 "metadata": {
  "kernelspec": {
   "display_name": "Python 3 (ipykernel)",
   "language": "python",
   "name": "python3"
  },
  "language_info": {
   "codemirror_mode": {
    "name": "ipython",
    "version": 3
   },
   "file_extension": ".py",
   "mimetype": "text/x-python",
   "name": "python",
   "nbconvert_exporter": "python",
   "pygments_lexer": "ipython3",
   "version": "3.9.12"
  }
 },
 "nbformat": 4,
 "nbformat_minor": 5
}

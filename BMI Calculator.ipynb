{
 "cells": [
  {
   "cell_type": "code",
   "execution_count": null,
   "id": "caf25d4e",
   "metadata": {},
   "outputs": [],
   "source": [
    "# BODY MASS INDEX\n",
    "# BMI = (Weight in Kilogram)/(Height in metres x Height in metres)"
   ]
  },
  {
   "cell_type": "code",
   "execution_count": 2,
   "id": "337a471f",
   "metadata": {},
   "outputs": [
    {
     "name": "stdout",
     "output_type": "stream",
     "text": [
      "Please enter your First Name: Adeola\n",
      "Please enter your Last Name: Adebiyi\n",
      "Enter in your weight in Kilogram: \n",
      "Please Enter a Number!\n",
      "Enter in your weight in Kilogram: 64\n",
      "Enter in your Height in metres: 1.56\n",
      "Dear Adeola Adebiyi, your BMI is 26.3 and you are Overweight.\n"
     ]
    }
   ],
   "source": [
    "# Input Name\n",
    "\n",
    "first_name = input ('Please enter your First Name: ')\n",
    "\n",
    "last_name = input ('Please enter your Last Name: ')\n",
    "\n",
    "Name = first_name + ' ' + last_name\n",
    "\n",
    "#  Input Weight\n",
    "int_weight  = 0\n",
    "while True:\n",
    "    try:\n",
    "        weight = float(input ('Enter in your weight in Kilogram: '))\n",
    "    except ValueError:\n",
    "        print ('Please Enter a Number!')\n",
    "    else:\n",
    "        break\n",
    "        int_weight = weight\n",
    "        \n",
    "# Input Height\n",
    "int_height  = 0\n",
    "while True:\n",
    "    try:\n",
    "        height = float(input ('Enter in your Height in metres: '))\n",
    "    except ValueError:\n",
    "        print ('Please Enter a Number!')\n",
    "    else:\n",
    "        break\n",
    "        int_height = height\n",
    "        \n",
    "# Calculating BMI\n",
    "BMI_Raw = (weight)/(height * height)\n",
    "\n",
    "BMI = round (BMI_Raw, 2)\n",
    "\n",
    "# BMI Classification\n",
    "if (BMI>0):\n",
    "    if (BMI <18.5):\n",
    "        print ('Dear '+ Name + ', your BMI is ' + str(BMI) + ' and you are Underweight.')\n",
    "    elif (BMI < 24.5):\n",
    "        print ('Dear '+ Name + ', your BMI is ' + str(BMI) + ' and you have Normal Weight.')\n",
    "    elif (BMI < 29.9):\n",
    "        print ('Dear '+ Name + ', your BMI is ' + str(BMI)+ ' and you are Overweight.')\n",
    "    elif (BMI < 34.5):\n",
    "        print ('Dear '+ Name + ', your BMI is ' + str(BMI) + ' and you are Obese.')\n",
    "    elif (BMI < 39.9):\n",
    "        print ('Dear '+ Name + ', your BMI is ' + str(BMI) + ' and you are Severely Obese.')\n",
    "    else:\n",
    "        print ('Dear '+ Name + ', your BMI is ' +str(BMI) + ' and you are Morbidly Obese.')\n",
    "else:\n",
    "    print ('Dear '+ Name + 'please Enter a Valid Input')\n"
   ]
  },
  {
   "cell_type": "code",
   "execution_count": null,
   "id": "b8aefedb",
   "metadata": {},
   "outputs": [],
   "source": []
  }
 ],
 "metadata": {
  "kernelspec": {
   "display_name": "Python 3 (ipykernel)",
   "language": "python",
   "name": "python3"
  },
  "language_info": {
   "codemirror_mode": {
    "name": "ipython",
    "version": 3
   },
   "file_extension": ".py",
   "mimetype": "text/x-python",
   "name": "python",
   "nbconvert_exporter": "python",
   "pygments_lexer": "ipython3",
   "version": "3.9.12"
  }
 },
 "nbformat": 4,
 "nbformat_minor": 5
}
